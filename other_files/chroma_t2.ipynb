{
 "cells": [
  {
   "cell_type": "code",
   "execution_count": 8,
   "metadata": {},
   "outputs": [
    {
     "name": "stdout",
     "output_type": "stream",
     "text": [
      "hello world\n"
     ]
    },
    {
     "name": "stderr",
     "output_type": "stream",
     "text": [
      "Insert of existing embedding ID: id1\n",
      "Insert of existing embedding ID: id2\n",
      "Add of existing embedding ID: id1\n",
      "Add of existing embedding ID: id2\n"
     ]
    }
   ],
   "source": [
    "print(\"hello world\")\n",
    "import chromadb\n",
    "chroma_client = chromadb.Client()\n",
    "# collection = chroma_client.create_collection(name=\"test1\")\n",
    "collection = chroma_client.get_or_create_collection(name =\"test1\")\n",
    "# collection.add(\n",
    "#     documents=[\n",
    "#         \"This is a document about pineapple\",\n",
    "#         \"This is a document about oranges\"\n",
    "#     ],\n",
    "#     ids=[\"id1\", \"id2\"]\n",
    "# )\n",
    "\n",
    "def chunking_documents(documents):\n",
    "    chunk_size = 100\n",
    "    return documents\n",
    "\n",
    "chunked_documents = chunking_documents(documents)\n",
    "print(chunked_documents)"
   ]
  },
  {
   "cell_type": "code",
   "execution_count": null,
   "metadata": {},
   "outputs": [],
   "source": []
  }
 ],
 "metadata": {
  "kernelspec": {
   "display_name": "Python 3",
   "language": "python",
   "name": "python3"
  },
  "language_info": {
   "codemirror_mode": {
    "name": "ipython",
    "version": 3
   },
   "file_extension": ".py",
   "mimetype": "text/x-python",
   "name": "python",
   "nbconvert_exporter": "python",
   "pygments_lexer": "ipython3",
   "version": "3.11.6"
  }
 },
 "nbformat": 4,
 "nbformat_minor": 2
}
